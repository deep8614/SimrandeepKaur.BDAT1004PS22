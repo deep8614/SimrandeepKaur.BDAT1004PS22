{
 "cells": [
  {
   "cell_type": "markdown",
   "id": "4664c7f2",
   "metadata": {},
   "source": [
    "QUESTON 1 \n",
    "Consider the following Python module:\n",
    "a = 0\n",
    "def b():\n",
    " global a\n",
    " a = c(a)\n",
    "def c(a):\n",
    " return a + 2\n",
    "After importing the module into the interpreter, you execute:\n",
    ">>> b()\n",
    ">>> b()\n",
    ">>> b()\n",
    ">>> a\n",
    "?\n",
    "What value is displayed when the last expression (a) is evaluated? Explain your\n",
    "answer by indicating what happens in every executed statement.\n"
   ]
  },
  {
   "cell_type": "code",
   "execution_count": 1,
   "id": "371dab85",
   "metadata": {},
   "outputs": [],
   "source": [
    "a = 0\n",
    "\n",
    "def b():\n",
    "    global a\n",
    "    a = c(a)\n",
    "    return a\n",
    "\n",
    "def c(a):\n",
    "    return a + 2"
   ]
  },
  {
   "cell_type": "code",
   "execution_count": 2,
   "id": "8fc49044",
   "metadata": {},
   "outputs": [
    {
     "data": {
      "text/plain": [
       "6"
      ]
     },
     "execution_count": 2,
     "metadata": {},
     "output_type": "execute_result"
    }
   ],
   "source": [
    "b()\n",
    "b()\n",
    "b()"
   ]
  },
  {
   "cell_type": "markdown",
   "id": "1ea6d834",
   "metadata": {},
   "source": [
    "Question 2\n",
    "Function fileLength(), given to you, takes the name of a file as input and returns\n",
    "the length of the file:\n",
    ">>> fileLength('midterm.py')\n",
    "284\n",
    ">>> fileLength('idterm.py')\n",
    "Traceback (most recent call last):\n",
    "File \"<pyshell#34>\", line 1, in <module>\n",
    " fileLength('idterm.py')\n",
    "File \"/Users/me/midterm.py\", line 3, in fileLength\n",
    " infile = open(filename)\n",
    "FileNotFoundError: [Errno 2] No such file or directory:\n",
    "'idterm.py'\n",
    "As shown above, if the file cannot be found by the interpreter or if it cannot be read\n",
    "as a text file, an exception will be raised. Modify function fileLength() so that a\n",
    "friendly message is printed instead:\n"
   ]
  },
  {
   "cell_type": "code",
   "execution_count": 23,
   "id": "378ea2e0",
   "metadata": {},
   "outputs": [],
   "source": [
    "def file_len(f):\n",
    "    try:\n",
    "        file = open(f, \"r\")\n",
    "        contents=file.read()\n",
    "        print('Given file length is : '+str(len(contents)))\n",
    "        file.close()\n",
    "    except:\n",
    "            print('File '+f+' not found')   "
   ]
  },
  {
   "cell_type": "code",
   "execution_count": 24,
   "id": "4d2722ef",
   "metadata": {},
   "outputs": [
    {
     "name": "stdout",
     "output_type": "stream",
     "text": [
      "Given file length is : 123\n"
     ]
    }
   ],
   "source": [
    "file_len(\"FileLength.txt\")"
   ]
  },
  {
   "cell_type": "code",
   "execution_count": 18,
   "id": "64d96e2a",
   "metadata": {},
   "outputs": [
    {
     "name": "stdout",
     "output_type": "stream",
     "text": [
      "File Filelength.py not found\n"
     ]
    }
   ],
   "source": [
    "file_len(\"Filelength.py\")"
   ]
  },
  {
   "cell_type": "markdown",
   "id": "8cd34c8e",
   "metadata": {},
   "source": [
    "Question 3\n",
    "Write a class named Marsupial that can be used as shown below:\n",
    ">>> m = Marsupial()\n",
    ">>> m.put_in_pouch('doll')\n",
    ">>> m.put_in_pouch('firetruck')\n",
    ">>> m.put_in_pouch('kitten')\n",
    ">>> m.pouch_contents()\n",
    "['doll', 'firetruck', 'kitten']\n",
    "Now write a class named Kangaroo as a subclass of Marsupial that inherits all the\n",
    "attributes of Marsupial and also:\n",
    "a. extends the Marsupial __init__ constructor to take, as input, the\n",
    "coordinates x and y of the Kangaroo object,\n",
    "b. supports method jump that takes number values dx and dy as input and\n",
    "moves the kangaroo by dx units along the x-axis and by dy units along the yaxis, and\n",
    "c. overloads the __str__ operator so it behaves as shown below.\n",
    ">>> k = Kangaroo(0,0)\n",
    ">>> print(k)\n",
    "I am a Kangaroo located at coordinates (0,0)\n",
    ">>> k.put_in_pouch('doll')\n",
    ">>> k.put_in_pouch('firetruck')\n",
    ">>> k.put_in_pouch('kitten')\n",
    ">>> k.pouch_contents()\n",
    "['doll', 'firetruck', 'kitten']\n",
    ">>> k.jump(1,0)\n",
    ">>> k.jump(1,0)\n",
    ">>> k.jump(1,0)\n",
    ">>> print(k)\n",
    "I am a Kangaroo located at coordinates (3,0)"
   ]
  },
  {
   "cell_type": "code",
   "execution_count": 25,
   "id": "b6273609",
   "metadata": {},
   "outputs": [],
   "source": [
    "class Marsupial:\n",
    "    \n",
    "    def __init__(self):\n",
    "        self.lst = []\n",
    "\n",
    "    def put_in_pouch(self, item):\n",
    "        self.lst.append(item)\n",
    "\n",
    "    def pouch_contents(self):\n",
    "        return self.lst\n",
    "\n",
    "class Kangaroo(Marsupial):\n",
    "    \n",
    "    def __init__(self,x,y):\n",
    "        Marsupial.__init__(self)\n",
    "        self.x = x\n",
    "        self.y = y\n",
    "        \n",
    "    def jump(self,dx,dy):\n",
    "        self.x += dx\n",
    "        self.y += dy\n",
    "        \n",
    "    def __str__(self):\n",
    "        return (f'I am a Kangaroo located at coordinates ({self.x},{self.y})')\n",
    "    "
   ]
  },
  {
   "cell_type": "code",
   "execution_count": 26,
   "id": "4da57ade",
   "metadata": {},
   "outputs": [
    {
     "name": "stdout",
     "output_type": "stream",
     "text": [
      "I am a Kangaroo located at coordinates (0,0)\n"
     ]
    }
   ],
   "source": [
    "k = Kangaroo(0,0)\n",
    "print(k)"
   ]
  },
  {
   "cell_type": "code",
   "execution_count": 27,
   "id": "53571412",
   "metadata": {},
   "outputs": [
    {
     "data": {
      "text/plain": [
       "['doll', 'firetruck', 'kitten']"
      ]
     },
     "execution_count": 27,
     "metadata": {},
     "output_type": "execute_result"
    }
   ],
   "source": [
    "k.put_in_pouch('doll')\n",
    "k.put_in_pouch('firetruck')\n",
    "k.put_in_pouch('kitten')\n",
    "k.pouch_contents()"
   ]
  },
  {
   "cell_type": "code",
   "execution_count": 28,
   "id": "89ec9df4",
   "metadata": {},
   "outputs": [
    {
     "name": "stdout",
     "output_type": "stream",
     "text": [
      "I am a Kangaroo located at coordinates (3,0)\n"
     ]
    }
   ],
   "source": [
    "k.jump(1,0)\n",
    "k.jump(1,0)\n",
    "k.jump(1,0)\n",
    "print(k)"
   ]
  },
  {
   "cell_type": "markdown",
   "id": "5cc4ef32",
   "metadata": {},
   "source": [
    "QUESTION 4\n",
    "Write function collatz() that takes a positive integer x as input and prints the\n",
    "Collatz sequence starting at x. A Collatz sequence is obtained by repeatedly applying\n",
    "this rule to the previous number x in the sequence:\n",
    "x = {\n",
    "𝑥/2 𝑖𝑓 𝑥 𝑖𝑠 𝑒𝑣𝑒𝑛\n",
    "3𝑥 + 1 𝑖𝑓 𝑥 𝑖𝑠 𝑜𝑑𝑑\n",
    "Your function should stop when the sequence gets to number 1. Your\n",
    "implementation must be recursive, without any loops."
   ]
  },
  {
   "cell_type": "code",
   "execution_count": 29,
   "id": "a37c151c",
   "metadata": {},
   "outputs": [],
   "source": [
    "def collatz(x):\n",
    "    if x == 1:\n",
    "        print(x)\n",
    "    elif x % 2 == 0:\n",
    "        print(x)\n",
    "        x = x/2\n",
    "        collatz(x)\n",
    "\n",
    "    else:\n",
    "        print(x)\n",
    "        x = 3*x + 1\n",
    "        collatz(x)"
   ]
  },
  {
   "cell_type": "code",
   "execution_count": 30,
   "id": "fed053bc",
   "metadata": {},
   "outputs": [
    {
     "name": "stdout",
     "output_type": "stream",
     "text": [
      "1\n"
     ]
    }
   ],
   "source": [
    "collatz(1)"
   ]
  },
  {
   "cell_type": "code",
   "execution_count": 31,
   "id": "5510a5ad",
   "metadata": {},
   "outputs": [
    {
     "name": "stdout",
     "output_type": "stream",
     "text": [
      "10\n",
      "5.0\n",
      "16.0\n",
      "8.0\n",
      "4.0\n",
      "2.0\n",
      "1.0\n"
     ]
    }
   ],
   "source": [
    "collatz(10)"
   ]
  },
  {
   "cell_type": "code",
   "execution_count": null,
   "id": "08948a00",
   "metadata": {},
   "outputs": [],
   "source": [
    "QUESTION 5\n",
    "Write a recursive method binary() that takes a non-negative\n",
    "integer n and prints the binary representation of integer n.\n",
    "\n"
   ]
  },
  {
   "cell_type": "code",
   "execution_count": 32,
   "id": "35e29fdd",
   "metadata": {},
   "outputs": [],
   "source": [
    "def binary(num):\n",
    "    if num == 0:\n",
    "        return '0'\n",
    "    else:\n",
    "        b = ''\n",
    "        while num > 0:\n",
    "            b = str((num % 2)) + b\n",
    "            num //= 2\n",
    "        return b"
   ]
  },
  {
   "cell_type": "code",
   "execution_count": 33,
   "id": "8f43a7c2",
   "metadata": {},
   "outputs": [
    {
     "data": {
      "text/plain": [
       "'0'"
      ]
     },
     "execution_count": 33,
     "metadata": {},
     "output_type": "execute_result"
    }
   ],
   "source": [
    "binary(0)"
   ]
  },
  {
   "cell_type": "code",
   "execution_count": 35,
   "id": "530f1ae1",
   "metadata": {},
   "outputs": [
    {
     "data": {
      "text/plain": [
       "'1'"
      ]
     },
     "execution_count": 35,
     "metadata": {},
     "output_type": "execute_result"
    }
   ],
   "source": [
    "binary(1)"
   ]
  },
  {
   "cell_type": "code",
   "execution_count": 36,
   "id": "befda159",
   "metadata": {},
   "outputs": [
    {
     "data": {
      "text/plain": [
       "'11'"
      ]
     },
     "execution_count": 36,
     "metadata": {},
     "output_type": "execute_result"
    }
   ],
   "source": [
    "binary(3)"
   ]
  },
  {
   "cell_type": "code",
   "execution_count": 37,
   "id": "721d7c9e",
   "metadata": {},
   "outputs": [
    {
     "data": {
      "text/plain": [
       "'1001'"
      ]
     },
     "execution_count": 37,
     "metadata": {},
     "output_type": "execute_result"
    }
   ],
   "source": [
    "binary(9)"
   ]
  },
  {
   "cell_type": "markdown",
   "id": "f1e38863",
   "metadata": {},
   "source": [
    "Question 6\n",
    "Implement a class named HeadingParser that can be used to parse an HTML\n",
    "document, and retrieve and print all the headings in the document. You should\n",
    "implement your class as a subclass of HTMLParser, defined in Standard Library\n",
    "module html.parser. When fed a string containing HTML code, your class should\n",
    "print the headings, one per line and in the order in which they appear in the\n",
    "document. Each heading should be indented as follows: an h1 heading should have indentation 0, and h2 heading should have indentation 1, etc. Test your\n",
    "implementation using w3c.html."
   ]
  },
  {
   "cell_type": "code",
   "execution_count": 57,
   "id": "f2842a2d",
   "metadata": {},
   "outputs": [],
   "source": [
    "from html.parser import HTMLParser\n",
    "\n",
    "class HeadingParser(HTMLParser):\n",
    "    headers = ['h1', 'h2', 'h3', 'h4', 'h5', 'h6']\n",
    "\n",
    "    def handle_starttag(self, tag, attrs):\n",
    "        if tag in self.headers:\n",
    "            print(tag)\n",
    "\n",
    "    def handle_endtag(self, tag):\n",
    "        if tag in self.headers:\n",
    "            print(tag)\n",
    "\n",
    "    def handle_data(self, data):\n",
    "        print(data)"
   ]
  },
  {
   "cell_type": "code",
   "execution_count": 58,
   "id": "04444896",
   "metadata": {},
   "outputs": [],
   "source": [
    "infile = open('w3c.html')"
   ]
  },
  {
   "cell_type": "code",
   "execution_count": 59,
   "id": "440a5049",
   "metadata": {},
   "outputs": [],
   "source": [
    "content = infile.read()"
   ]
  },
  {
   "cell_type": "code",
   "execution_count": 60,
   "id": "2bc9a7b6",
   "metadata": {},
   "outputs": [],
   "source": [
    "infile.close()"
   ]
  },
  {
   "cell_type": "code",
   "execution_count": 61,
   "id": "1bb4be86",
   "metadata": {},
   "outputs": [],
   "source": [
    "hp = HeadingParser()"
   ]
  },
  {
   "cell_type": "code",
   "execution_count": 62,
   "id": "6bf52e2a",
   "metadata": {},
   "outputs": [
    {
     "name": "stdout",
     "output_type": "stream",
     "text": [
      "\n",
      "\n",
      "\n",
      "\n",
      "\n",
      "\n",
      "  \n",
      "\n",
      "  \n",
      "\n",
      "  \n",
      "Change_me\n",
      "\n",
      "  \n",
      "\n",
      "  \n",
      "\n",
      "  \n",
      "\n",
      "\n",
      "\n",
      "\n",
      "\n",
      "\n",
      "  \n",
      "\t\n",
      "h1\n",
      "W3C Mission\n",
      "h1\n",
      "\n",
      "\t\n",
      "h2\n",
      "Principles\n",
      "h2\n",
      "\n",
      " \n",
      "\n",
      "\n",
      "\n",
      "\n",
      "\n"
     ]
    }
   ],
   "source": [
    "hp.feed(content)"
   ]
  },
  {
   "cell_type": "markdown",
   "id": "f6c15071",
   "metadata": {},
   "source": [
    "Question 7\n",
    "Implement recursive function webdir() that takes as input: a URL (as a string) and\n",
    "non-negative integers depth and indent. Your function should visit every web\n",
    "page reachable from the starting URL web page in depth clicks or less, and print\n",
    "each web page's URL. As shown below, indentation, specified by indent, should\n",
    "be used to indicate the depth of a URL."
   ]
  },
  {
   "cell_type": "code",
   "execution_count": 64,
   "id": "24701220",
   "metadata": {},
   "outputs": [
    {
     "name": "stdout",
     "output_type": "stream",
     "text": [
      "https://reed.cs.depaul.edu/lperkovic/test1.html\n",
      "\thttp://reed.cs.depaul.edu/lperkovic/test2.html\n",
      "\t\thttp://reed.cs.depaul.edu/lperkovic/test4.html\n",
      "\thttps://reed.cs.depaul.edu/lperkovic/test3.html\n",
      "\t\thttps://reed.cs.depaul.edu/lperkovic/test4.html\n"
     ]
    }
   ],
   "source": [
    "from urllib.parse import urljoin\n",
    "from html.parser import HTMLParser\n",
    "from urllib.request import urlopen\n",
    "class Collector(HTMLParser):\n",
    "    'collects hyperlink URLs into a list'\n",
    "\n",
    "    def __init__(self, url):\n",
    "        'initializes parser, the url, and a list'\n",
    "        HTMLParser.__init__(self)\n",
    "        self.url = url\n",
    "        self.links = []\n",
    "\n",
    "    \n",
    "    def handle_starttag(self, tag, attrs):\n",
    "        'collects hyperlink URLs in their absolute format'\n",
    "        if tag == 'a':\n",
    "            for attr in attrs:\n",
    "                if attr[0] == 'href':\n",
    "                    # construct absolute URL\n",
    "                    absolute = urljoin(self.url, attr[1])\n",
    "                    if absolute[:4] == 'http': # collect HTTP URLs\n",
    "                        self.links.append(absolute)\n",
    "                        \n",
    "    def getLinks(self):\n",
    "        'returns hyperlinks URLs in their absolute format'\n",
    "        return self.links\n",
    "\n",
    "\n",
    "def webdir(url,depth,indent):\n",
    "    if(depth<0):\n",
    "        return\n",
    "    print(\"\\t\"*indent +url)\n",
    "    resource = urlopen(url)\n",
    "    content = resource.read().decode()\n",
    "    collector = Collector(url)\n",
    "    collector.feed(content)\n",
    "    findUrlLst = collector.getLinks()\n",
    "    \n",
    "    for visiturl in findUrlLst:\n",
    "        webdir(visiturl,depth-1,indent+1)\n",
    "webdir(\"https://reed.cs.depaul.edu/lperkovic/test1.html\",2,0)"
   ]
  },
  {
   "cell_type": "code",
   "execution_count": null,
   "id": "38d5d2ad",
   "metadata": {},
   "outputs": [],
   "source": [
    "Question 8\n",
    "Write SQL queries on the below database table that return:\n",
    "a) All the temperature data.\n",
    "b) All the cities, but without repetition.\n",
    "c) All the records for India.\n",
    "d) All the Fall records.\n",
    "e) The city, country, and season for which the average rainfall is between 200\n",
    "and 400 millimeters.\n",
    "f) The city and country for which the average Fall temperature is above 20\n",
    "degrees, in increasing temperature order.\n",
    "g) The total annual rainfall for Cairo.\n",
    "h) The total rainfall for each season.\n"
   ]
  },
  {
   "cell_type": "code",
   "execution_count": 65,
   "id": "a09144af",
   "metadata": {},
   "outputs": [
    {
     "data": {
      "text/plain": [
       "['Requirement already satisfied: ipython-sql in d:\\\\anaconda\\\\lib\\\\site-packages (0.5.0)',\n",
       " 'Requirement already satisfied: ipython in d:\\\\anaconda\\\\lib\\\\site-packages (from ipython-sql) (8.10.0)',\n",
       " 'Requirement already satisfied: six in d:\\\\anaconda\\\\lib\\\\site-packages (from ipython-sql) (1.16.0)',\n",
       " 'Requirement already satisfied: sqlalchemy>=2.0 in d:\\\\anaconda\\\\lib\\\\site-packages (from ipython-sql) (2.0.17)',\n",
       " 'Requirement already satisfied: prettytable in d:\\\\anaconda\\\\lib\\\\site-packages (from ipython-sql) (3.8.0)',\n",
       " 'Requirement already satisfied: ipython-genutils in d:\\\\anaconda\\\\lib\\\\site-packages (from ipython-sql) (0.2.0)',\n",
       " 'Requirement already satisfied: sqlparse in d:\\\\anaconda\\\\lib\\\\site-packages (from ipython-sql) (0.4.4)',\n",
       " 'Requirement already satisfied: typing-extensions>=4.2.0 in d:\\\\anaconda\\\\lib\\\\site-packages (from sqlalchemy>=2.0->ipython-sql) (4.4.0)',\n",
       " 'Requirement already satisfied: greenlet!=0.4.17 in d:\\\\anaconda\\\\lib\\\\site-packages (from sqlalchemy>=2.0->ipython-sql) (2.0.1)',\n",
       " 'Requirement already satisfied: backcall in d:\\\\anaconda\\\\lib\\\\site-packages (from ipython->ipython-sql) (0.2.0)',\n",
       " 'Requirement already satisfied: matplotlib-inline in d:\\\\anaconda\\\\lib\\\\site-packages (from ipython->ipython-sql) (0.1.6)',\n",
       " 'Requirement already satisfied: stack-data in d:\\\\anaconda\\\\lib\\\\site-packages (from ipython->ipython-sql) (0.2.0)',\n",
       " 'Requirement already satisfied: pygments>=2.4.0 in d:\\\\anaconda\\\\lib\\\\site-packages (from ipython->ipython-sql) (2.11.2)',\n",
       " 'Requirement already satisfied: jedi>=0.16 in d:\\\\anaconda\\\\lib\\\\site-packages (from ipython->ipython-sql) (0.18.1)',\n",
       " 'Requirement already satisfied: prompt-toolkit<3.1.0,>=3.0.30 in d:\\\\anaconda\\\\lib\\\\site-packages (from ipython->ipython-sql) (3.0.36)',\n",
       " 'Requirement already satisfied: pickleshare in d:\\\\anaconda\\\\lib\\\\site-packages (from ipython->ipython-sql) (0.7.5)',\n",
       " 'Requirement already satisfied: colorama in d:\\\\anaconda\\\\lib\\\\site-packages (from ipython->ipython-sql) (0.4.6)',\n",
       " 'Requirement already satisfied: traitlets>=5 in d:\\\\anaconda\\\\lib\\\\site-packages (from ipython->ipython-sql) (5.7.1)',\n",
       " 'Requirement already satisfied: decorator in d:\\\\anaconda\\\\lib\\\\site-packages (from ipython->ipython-sql) (5.1.1)',\n",
       " 'Requirement already satisfied: wcwidth in d:\\\\anaconda\\\\lib\\\\site-packages (from prettytable->ipython-sql) (0.2.5)',\n",
       " 'Requirement already satisfied: parso<0.9.0,>=0.8.0 in d:\\\\anaconda\\\\lib\\\\site-packages (from jedi>=0.16->ipython->ipython-sql) (0.8.3)',\n",
       " 'Requirement already satisfied: pure-eval in d:\\\\anaconda\\\\lib\\\\site-packages (from stack-data->ipython->ipython-sql) (0.2.2)',\n",
       " 'Requirement already satisfied: asttokens in d:\\\\anaconda\\\\lib\\\\site-packages (from stack-data->ipython->ipython-sql) (2.0.5)',\n",
       " 'Requirement already satisfied: executing in d:\\\\anaconda\\\\lib\\\\site-packages (from stack-data->ipython->ipython-sql) (0.8.3)']"
      ]
     },
     "execution_count": 65,
     "metadata": {},
     "output_type": "execute_result"
    }
   ],
   "source": [
    "%%!\n",
    "pip install --trusted-host pypi.org ipython-sql"
   ]
  },
  {
   "cell_type": "code",
   "execution_count": 66,
   "id": "f22b5fea",
   "metadata": {},
   "outputs": [],
   "source": [
    "%reload_ext sql"
   ]
  },
  {
   "cell_type": "code",
   "execution_count": 67,
   "id": "00c1b5d0",
   "metadata": {},
   "outputs": [],
   "source": [
    "%sql sqlite://"
   ]
  },
  {
   "cell_type": "code",
   "execution_count": 68,
   "id": "c654beda",
   "metadata": {},
   "outputs": [
    {
     "name": "stdout",
     "output_type": "stream",
     "text": [
      " * sqlite://\n",
      "Done.\n",
      "12 rows affected.\n",
      "Done.\n"
     ]
    },
    {
     "data": {
      "text/html": [
       "<table>\n",
       "    <thead>\n",
       "        <tr>\n",
       "            <th>city</th>\n",
       "            <th>country</th>\n",
       "            <th>season</th>\n",
       "            <th>temperature</th>\n",
       "            <th>rainfall</th>\n",
       "        </tr>\n",
       "    </thead>\n",
       "    <tbody>\n",
       "        <tr>\n",
       "            <td>Mumbai</td>\n",
       "            <td>India</td>\n",
       "            <td>Winter</td>\n",
       "            <td>24.8</td>\n",
       "            <td>5.9</td>\n",
       "        </tr>\n",
       "        <tr>\n",
       "            <td>Mumbai</td>\n",
       "            <td>India</td>\n",
       "            <td>Spring</td>\n",
       "            <td>28.4</td>\n",
       "            <td>16.2</td>\n",
       "        </tr>\n",
       "        <tr>\n",
       "            <td>Mumbai</td>\n",
       "            <td>India</td>\n",
       "            <td>Summer</td>\n",
       "            <td>27.9</td>\n",
       "            <td>1549.4</td>\n",
       "        </tr>\n",
       "        <tr>\n",
       "            <td>Mumbai</td>\n",
       "            <td>India</td>\n",
       "            <td>Fall</td>\n",
       "            <td>27.6</td>\n",
       "            <td>346.0</td>\n",
       "        </tr>\n",
       "        <tr>\n",
       "            <td>London</td>\n",
       "            <td>United kingdom</td>\n",
       "            <td>Winter</td>\n",
       "            <td>4.2</td>\n",
       "            <td>207.7</td>\n",
       "        </tr>\n",
       "        <tr>\n",
       "            <td>London</td>\n",
       "            <td>United kingdom</td>\n",
       "            <td>Spring</td>\n",
       "            <td>8.3</td>\n",
       "            <td>169.6</td>\n",
       "        </tr>\n",
       "        <tr>\n",
       "            <td>London</td>\n",
       "            <td>United kingdom</td>\n",
       "            <td>Summer</td>\n",
       "            <td>15.7</td>\n",
       "            <td>157.0</td>\n",
       "        </tr>\n",
       "        <tr>\n",
       "            <td>London</td>\n",
       "            <td>United kingdom</td>\n",
       "            <td>Fall</td>\n",
       "            <td>10.4</td>\n",
       "            <td>218.5</td>\n",
       "        </tr>\n",
       "        <tr>\n",
       "            <td>Cairo</td>\n",
       "            <td>Egypt</td>\n",
       "            <td>Winter</td>\n",
       "            <td>13.6</td>\n",
       "            <td>16.5</td>\n",
       "        </tr>\n",
       "        <tr>\n",
       "            <td>Cairo</td>\n",
       "            <td>Egypt</td>\n",
       "            <td>Spring</td>\n",
       "            <td>20.7</td>\n",
       "            <td>6.5</td>\n",
       "        </tr>\n",
       "        <tr>\n",
       "            <td>Cairo</td>\n",
       "            <td>Egypt</td>\n",
       "            <td>Spring</td>\n",
       "            <td>27.7</td>\n",
       "            <td>0.1</td>\n",
       "        </tr>\n",
       "        <tr>\n",
       "            <td>Cairo</td>\n",
       "            <td>Egypt</td>\n",
       "            <td>Spring</td>\n",
       "            <td>22.2</td>\n",
       "            <td>4.5</td>\n",
       "        </tr>\n",
       "    </tbody>\n",
       "</table>"
      ],
      "text/plain": [
       "[('Mumbai', 'India', 'Winter', 24.8, 5.9),\n",
       " ('Mumbai', 'India', 'Spring', 28.4, 16.2),\n",
       " ('Mumbai', 'India', 'Summer', 27.9, 1549.4),\n",
       " ('Mumbai', 'India', 'Fall', 27.6, 346.0),\n",
       " ('London', 'United kingdom', 'Winter', 4.2, 207.7),\n",
       " ('London', 'United kingdom', 'Spring', 8.3, 169.6),\n",
       " ('London', 'United kingdom', 'Summer', 15.7, 157.0),\n",
       " ('London', 'United kingdom', 'Fall', 10.4, 218.5),\n",
       " ('Cairo', 'Egypt', 'Winter', 13.6, 16.5),\n",
       " ('Cairo', 'Egypt', 'Spring', 20.7, 6.5),\n",
       " ('Cairo', 'Egypt', 'Spring', 27.7, 0.1),\n",
       " ('Cairo', 'Egypt', 'Spring', 22.2, 4.5)]"
      ]
     },
     "execution_count": 68,
     "metadata": {},
     "output_type": "execute_result"
    }
   ],
   "source": [
    "%%sql\n",
    "CREATE TABLE CITYTEMP(\n",
    "city varchar(50),\n",
    "country varchar(50),\n",
    "season varchar(50),\n",
    "temperature float,\n",
    "rainfall float\n",
    ");\n",
    "INSERT INTO CITYTEMP VALUES('Mumbai', 'India', 'Winter', 24.8,5.9),\n",
    "('Mumbai', 'India', 'Spring', 28.4,16.2),\n",
    "('Mumbai', 'India', 'Summer', 27.9,1549.4),\n",
    "('Mumbai', 'India', 'Fall', 27.6,346.0),\n",
    "('London', 'United kingdom', 'Winter', 4.2,207.7),\n",
    "('London', 'United kingdom', 'Spring', 8.3,169.6),\n",
    "('London', 'United kingdom','Summer', 15.7,157.0),\n",
    "('London', 'United kingdom','Fall', 10.4,218.5),\n",
    "('Cairo', 'Egypt','Winter', 13.6,16.5),\n",
    "('Cairo', 'Egypt', 'Spring', 20.7,6.5),\n",
    "('Cairo', 'Egypt', 'Spring', 27.7,0.1),\n",
    "('Cairo', 'Egypt', 'Spring', 22.2,4.5);\n",
    "\n",
    "SELECT * from CITYTEMP;"
   ]
  },
  {
   "cell_type": "code",
   "execution_count": 69,
   "id": "688ca8e5",
   "metadata": {},
   "outputs": [
    {
     "name": "stdout",
     "output_type": "stream",
     "text": [
      " * sqlite://\n",
      "Done.\n"
     ]
    },
    {
     "data": {
      "text/html": [
       "<table>\n",
       "    <thead>\n",
       "        <tr>\n",
       "            <th>temperature</th>\n",
       "        </tr>\n",
       "    </thead>\n",
       "    <tbody>\n",
       "        <tr>\n",
       "            <td>24.8</td>\n",
       "        </tr>\n",
       "        <tr>\n",
       "            <td>28.4</td>\n",
       "        </tr>\n",
       "        <tr>\n",
       "            <td>27.9</td>\n",
       "        </tr>\n",
       "        <tr>\n",
       "            <td>27.6</td>\n",
       "        </tr>\n",
       "        <tr>\n",
       "            <td>4.2</td>\n",
       "        </tr>\n",
       "        <tr>\n",
       "            <td>8.3</td>\n",
       "        </tr>\n",
       "        <tr>\n",
       "            <td>15.7</td>\n",
       "        </tr>\n",
       "        <tr>\n",
       "            <td>10.4</td>\n",
       "        </tr>\n",
       "        <tr>\n",
       "            <td>13.6</td>\n",
       "        </tr>\n",
       "        <tr>\n",
       "            <td>20.7</td>\n",
       "        </tr>\n",
       "        <tr>\n",
       "            <td>27.7</td>\n",
       "        </tr>\n",
       "        <tr>\n",
       "            <td>22.2</td>\n",
       "        </tr>\n",
       "    </tbody>\n",
       "</table>"
      ],
      "text/plain": [
       "[(24.8,),\n",
       " (28.4,),\n",
       " (27.9,),\n",
       " (27.6,),\n",
       " (4.2,),\n",
       " (8.3,),\n",
       " (15.7,),\n",
       " (10.4,),\n",
       " (13.6,),\n",
       " (20.7,),\n",
       " (27.7,),\n",
       " (22.2,)]"
      ]
     },
     "execution_count": 69,
     "metadata": {},
     "output_type": "execute_result"
    }
   ],
   "source": [
    "%%sql\n",
    "SELECT TEMPERATURE from CITYTEMP;"
   ]
  },
  {
   "cell_type": "code",
   "execution_count": 70,
   "id": "66601f69",
   "metadata": {},
   "outputs": [
    {
     "name": "stdout",
     "output_type": "stream",
     "text": [
      " * sqlite://\n",
      "Done.\n"
     ]
    },
    {
     "data": {
      "text/html": [
       "<table>\n",
       "    <thead>\n",
       "        <tr>\n",
       "            <th>city</th>\n",
       "        </tr>\n",
       "    </thead>\n",
       "    <tbody>\n",
       "        <tr>\n",
       "            <td>Mumbai</td>\n",
       "        </tr>\n",
       "        <tr>\n",
       "            <td>London</td>\n",
       "        </tr>\n",
       "        <tr>\n",
       "            <td>Cairo</td>\n",
       "        </tr>\n",
       "    </tbody>\n",
       "</table>"
      ],
      "text/plain": [
       "[('Mumbai',), ('London',), ('Cairo',)]"
      ]
     },
     "execution_count": 70,
     "metadata": {},
     "output_type": "execute_result"
    }
   ],
   "source": [
    "%%sql\n",
    "SELECT DISTINCT CITY from CITYTEMP;"
   ]
  },
  {
   "cell_type": "code",
   "execution_count": 71,
   "id": "e35e3f2c",
   "metadata": {},
   "outputs": [
    {
     "name": "stdout",
     "output_type": "stream",
     "text": [
      " * sqlite://\n",
      "Done.\n"
     ]
    },
    {
     "data": {
      "text/html": [
       "<table>\n",
       "    <thead>\n",
       "        <tr>\n",
       "            <th>city</th>\n",
       "            <th>country</th>\n",
       "            <th>season</th>\n",
       "            <th>temperature</th>\n",
       "            <th>rainfall</th>\n",
       "        </tr>\n",
       "    </thead>\n",
       "    <tbody>\n",
       "        <tr>\n",
       "            <td>Mumbai</td>\n",
       "            <td>India</td>\n",
       "            <td>Winter</td>\n",
       "            <td>24.8</td>\n",
       "            <td>5.9</td>\n",
       "        </tr>\n",
       "        <tr>\n",
       "            <td>Mumbai</td>\n",
       "            <td>India</td>\n",
       "            <td>Spring</td>\n",
       "            <td>28.4</td>\n",
       "            <td>16.2</td>\n",
       "        </tr>\n",
       "        <tr>\n",
       "            <td>Mumbai</td>\n",
       "            <td>India</td>\n",
       "            <td>Summer</td>\n",
       "            <td>27.9</td>\n",
       "            <td>1549.4</td>\n",
       "        </tr>\n",
       "        <tr>\n",
       "            <td>Mumbai</td>\n",
       "            <td>India</td>\n",
       "            <td>Fall</td>\n",
       "            <td>27.6</td>\n",
       "            <td>346.0</td>\n",
       "        </tr>\n",
       "    </tbody>\n",
       "</table>"
      ],
      "text/plain": [
       "[('Mumbai', 'India', 'Winter', 24.8, 5.9),\n",
       " ('Mumbai', 'India', 'Spring', 28.4, 16.2),\n",
       " ('Mumbai', 'India', 'Summer', 27.9, 1549.4),\n",
       " ('Mumbai', 'India', 'Fall', 27.6, 346.0)]"
      ]
     },
     "execution_count": 71,
     "metadata": {},
     "output_type": "execute_result"
    }
   ],
   "source": [
    "%%sql\n",
    "SELECT * from CITYTEMP WHERE COUNTRY == 'India';"
   ]
  },
  {
   "cell_type": "code",
   "execution_count": 72,
   "id": "fca2a613",
   "metadata": {},
   "outputs": [
    {
     "name": "stdout",
     "output_type": "stream",
     "text": [
      " * sqlite://\n",
      "Done.\n"
     ]
    },
    {
     "data": {
      "text/html": [
       "<table>\n",
       "    <thead>\n",
       "        <tr>\n",
       "            <th>city</th>\n",
       "            <th>country</th>\n",
       "            <th>season</th>\n",
       "            <th>temperature</th>\n",
       "            <th>rainfall</th>\n",
       "        </tr>\n",
       "    </thead>\n",
       "    <tbody>\n",
       "        <tr>\n",
       "            <td>Mumbai</td>\n",
       "            <td>India</td>\n",
       "            <td>Fall</td>\n",
       "            <td>27.6</td>\n",
       "            <td>346.0</td>\n",
       "        </tr>\n",
       "        <tr>\n",
       "            <td>London</td>\n",
       "            <td>United kingdom</td>\n",
       "            <td>Fall</td>\n",
       "            <td>10.4</td>\n",
       "            <td>218.5</td>\n",
       "        </tr>\n",
       "    </tbody>\n",
       "</table>"
      ],
      "text/plain": [
       "[('Mumbai', 'India', 'Fall', 27.6, 346.0),\n",
       " ('London', 'United kingdom', 'Fall', 10.4, 218.5)]"
      ]
     },
     "execution_count": 72,
     "metadata": {},
     "output_type": "execute_result"
    }
   ],
   "source": [
    "%%sql\n",
    "SELECT * from CITYTEMP WHERE SEASON == 'Fall';"
   ]
  },
  {
   "cell_type": "code",
   "execution_count": 73,
   "id": "5095781a",
   "metadata": {},
   "outputs": [
    {
     "name": "stdout",
     "output_type": "stream",
     "text": [
      " * sqlite://\n",
      "Done.\n"
     ]
    },
    {
     "data": {
      "text/html": [
       "<table>\n",
       "    <thead>\n",
       "        <tr>\n",
       "            <th>city</th>\n",
       "            <th>country</th>\n",
       "            <th>season</th>\n",
       "        </tr>\n",
       "    </thead>\n",
       "    <tbody>\n",
       "        <tr>\n",
       "            <td>Mumbai</td>\n",
       "            <td>India</td>\n",
       "            <td>Fall</td>\n",
       "        </tr>\n",
       "        <tr>\n",
       "            <td>London</td>\n",
       "            <td>United kingdom</td>\n",
       "            <td>Winter</td>\n",
       "        </tr>\n",
       "        <tr>\n",
       "            <td>London</td>\n",
       "            <td>United kingdom</td>\n",
       "            <td>Fall</td>\n",
       "        </tr>\n",
       "    </tbody>\n",
       "</table>"
      ],
      "text/plain": [
       "[('Mumbai', 'India', 'Fall'),\n",
       " ('London', 'United kingdom', 'Winter'),\n",
       " ('London', 'United kingdom', 'Fall')]"
      ]
     },
     "execution_count": 73,
     "metadata": {},
     "output_type": "execute_result"
    }
   ],
   "source": [
    "%%sql\n",
    "SELECT CITY, COUNTRY, SEASON from CITYTEMP WHERE RAINFALL BETWEEN 200 and 400;"
   ]
  },
  {
   "cell_type": "code",
   "execution_count": 74,
   "id": "5e8efb54",
   "metadata": {},
   "outputs": [
    {
     "name": "stdout",
     "output_type": "stream",
     "text": [
      " * sqlite://\n",
      "Done.\n"
     ]
    },
    {
     "data": {
      "text/html": [
       "<table>\n",
       "    <thead>\n",
       "        <tr>\n",
       "            <th>city</th>\n",
       "            <th>country</th>\n",
       "        </tr>\n",
       "    </thead>\n",
       "    <tbody>\n",
       "        <tr>\n",
       "            <td>Mumbai</td>\n",
       "            <td>India</td>\n",
       "        </tr>\n",
       "    </tbody>\n",
       "</table>"
      ],
      "text/plain": [
       "[('Mumbai', 'India')]"
      ]
     },
     "execution_count": 74,
     "metadata": {},
     "output_type": "execute_result"
    }
   ],
   "source": [
    "%%sql\n",
    "SELECT CITY, COUNTRY from CITYTEMP WHERE SEASON == 'Fall' and TEMPERATURE >20 ORDER BY TEMPERATURE ASC;"
   ]
  },
  {
   "cell_type": "code",
   "execution_count": 75,
   "id": "42337596",
   "metadata": {},
   "outputs": [
    {
     "name": "stdout",
     "output_type": "stream",
     "text": [
      " * sqlite://\n",
      "Done.\n"
     ]
    },
    {
     "data": {
      "text/html": [
       "<table>\n",
       "    <thead>\n",
       "        <tr>\n",
       "            <th>ANNUAL_RAINFALL</th>\n",
       "        </tr>\n",
       "    </thead>\n",
       "    <tbody>\n",
       "        <tr>\n",
       "            <td>27.6</td>\n",
       "        </tr>\n",
       "    </tbody>\n",
       "</table>"
      ],
      "text/plain": [
       "[(27.6,)]"
      ]
     },
     "execution_count": 75,
     "metadata": {},
     "output_type": "execute_result"
    }
   ],
   "source": [
    "%%sql\n",
    "SELECT sum(rainfall) AS ANNUAL_RAINFALL from CITYTEMP WHERE CITY == 'Cairo';"
   ]
  },
  {
   "cell_type": "code",
   "execution_count": 76,
   "id": "647ae60d",
   "metadata": {},
   "outputs": [
    {
     "name": "stdout",
     "output_type": "stream",
     "text": [
      " * sqlite://\n",
      "Done.\n"
     ]
    },
    {
     "data": {
      "text/html": [
       "<table>\n",
       "    <thead>\n",
       "        <tr>\n",
       "            <th>season</th>\n",
       "            <th>TOTAL_RAINFALL</th>\n",
       "        </tr>\n",
       "    </thead>\n",
       "    <tbody>\n",
       "        <tr>\n",
       "            <td>Fall</td>\n",
       "            <td>564.5</td>\n",
       "        </tr>\n",
       "        <tr>\n",
       "            <td>Spring</td>\n",
       "            <td>196.89999999999998</td>\n",
       "        </tr>\n",
       "        <tr>\n",
       "            <td>Summer</td>\n",
       "            <td>1706.4</td>\n",
       "        </tr>\n",
       "        <tr>\n",
       "            <td>Winter</td>\n",
       "            <td>230.1</td>\n",
       "        </tr>\n",
       "    </tbody>\n",
       "</table>"
      ],
      "text/plain": [
       "[('Fall', 564.5),\n",
       " ('Spring', 196.89999999999998),\n",
       " ('Summer', 1706.4),\n",
       " ('Winter', 230.1)]"
      ]
     },
     "execution_count": 76,
     "metadata": {},
     "output_type": "execute_result"
    }
   ],
   "source": [
    "%%sql\n",
    "SELECT SEASON, sum(rainfall) AS TOTAL_RAINFALL from CITYTEMP group by season;"
   ]
  },
  {
   "cell_type": "markdown",
   "id": "1e2aa904",
   "metadata": {},
   "source": [
    "Question 9\n",
    ". Suppose list words is defined as follows:\n",
    ">>> words = ['The', 'quick', 'brown', 'fox', 'jumps', 'over',\n",
    "'the', 'lazy', 'dog']\n",
    "Write list comprehension expressions that use list words and generate the following\n",
    "lists:\n",
    "a) ['THE', 'QUICK', 'BROWN', 'FOX', 'JUMPS', 'OVER', 'THE',\n",
    "'LAZY', 'DOG']\n",
    "b) ['the', 'quick', 'brown', 'fox', 'jumps', 'over', 'the',\n",
    "'lazy', 'dog']\n",
    "c) [3, 5, 5, 3, 5, 4, 3, 4, 3] (the list of lengths of words in list\n",
    "words).\n",
    "d) [['THE', 'the', 3], ['QUICK', 'quick', 5], ['BROWN',\n",
    "'brown', 5], ['FOX', 'fox', 3], ['JUMPS', 'jumps', 5],\n",
    "['OVER', 'over', 4], ['THE', 'the', 3], ['LAZY', 'lazy',\n",
    "4], ['DOG', 'dog', 3]] (the list containing a list for every word of list\n",
    "words, where each list contains the word in uppercase and lowercase and the\n",
    "length of the word.)\n",
    "e) ['The', 'quick', 'brown', 'fox', 'jumps', 'over', 'the',\n",
    "'lazy', 'dog'] (the list of words in list words containing 4 or more\n",
    "characters.)"
   ]
  },
  {
   "cell_type": "code",
   "execution_count": 77,
   "id": "079d712d",
   "metadata": {},
   "outputs": [
    {
     "name": "stdout",
     "output_type": "stream",
     "text": [
      "a) ['THE', 'QUICK', 'BROWN', 'FOX', 'JUMPS', 'OVER', 'THE', 'LAZY', 'DOG']\n",
      "b) ['the', 'quick', 'brown', 'fox', 'jumps', 'over', 'the', 'lazy', 'dog']\n",
      "c) [3, 5, 5, 3, 5, 4, 3, 4, 3]\n",
      "d) [['THE', 'the', 3], ['QUICK', 'quick', 5], ['BROWN', 'brown', 5], ['FOX', 'fox', 3], ['JUMPS', 'jumps', 5], ['OVER', 'over', 4], ['THE', 'the', 3], ['LAZY', 'lazy', 4], ['DOG', 'dog', 3]]\n",
      "e) ['quick', 'brown', 'jumps', 'over', 'lazy']\n"
     ]
    }
   ],
   "source": [
    "words =  ['The', 'quick', 'brown', 'fox', 'jumps', 'over', 'the', 'lazy', 'dog']\n",
    "\n",
    "print(\"a)\",[word.upper() for word in words])\n",
    "print(\"b)\",[word.lower() for word in words])\n",
    "print(\"c)\",[len(word) for word in words])\n",
    "print(\"d)\",[[word.upper(), word.lower(), len(word)] for word in words])\n",
    "print(\"e)\",[word for word in words if len(word)>=4])"
   ]
  },
  {
   "cell_type": "code",
   "execution_count": null,
   "id": "7e6f9fca",
   "metadata": {},
   "outputs": [],
   "source": []
  }
 ],
 "metadata": {
  "kernelspec": {
   "display_name": "Python 3 (ipykernel)",
   "language": "python",
   "name": "python3"
  },
  "language_info": {
   "codemirror_mode": {
    "name": "ipython",
    "version": 3
   },
   "file_extension": ".py",
   "mimetype": "text/x-python",
   "name": "python",
   "nbconvert_exporter": "python",
   "pygments_lexer": "ipython3",
   "version": "3.10.9"
  }
 },
 "nbformat": 4,
 "nbformat_minor": 5
}
